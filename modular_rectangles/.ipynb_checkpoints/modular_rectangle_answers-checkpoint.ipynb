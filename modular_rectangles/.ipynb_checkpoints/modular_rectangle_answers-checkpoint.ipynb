{
 "cells": [
  {
   "cell_type": "markdown",
   "metadata": {},
   "source": [
    "## Modular Rectangles\n",
    "\n",
    "Write a program that draws \"modular rectangles\" like the one below:\n",
    "\n",
    "0123<br>\n",
    "4567<br>\n",
    "8901<br>\n",
    "\n",
    "012345<br>\n",
    "678901<br>\n",
    "234567<br>\n",
    "\n",
    "Requirements:\n",
    "- User needs to pick the size of the rectangle (i.e. width x height)\n",
    "- All numbers need to be mod 10 (meaning from 0 - 9)\n",
    "- All numbers must increment by 1"
   ]
  },
  {
   "cell_type": "markdown",
   "metadata": {},
   "source": [
    "### First lets get some user input\n",
    "\n",
    "- Get the user input for height and width\n",
    "-  Store those values as integers in the height and width values below"
   ]
  },
  {
   "cell_type": "code",
   "execution_count": 2,
   "metadata": {},
   "outputs": [],
   "source": [
    "height = 3 #get the input for height\n",
    "width = 4 #get the input for weight"
   ]
  },
  {
   "cell_type": "markdown",
   "metadata": {},
   "source": [
    "### Now lets make sure we can print\n",
    "\n",
    "There are many ways to do this, but I would reccoment having a custom print function which works like this:\n",
    "\n",
    "- Input (an array of numbers)\n",
    "- Ouput (those numbers without commas and with a '\\n' new line at the end)\n",
    "\n",
    "*NOTE that the print function is python is really powerful so you can actually use that with some special parameters*\n",
    "https://stackoverflow.com/questions/41906199/how-to-make-a-new-line-in-a-jupyter-markdown-cell/43482867"
   ]
  },
  {
   "cell_type": "code",
   "execution_count": 5,
   "metadata": {},
   "outputs": [],
   "source": [
    "def printRow(list):\n",
    "    print(*list, sep=' ')\n",
    "    \n",
    "\n"
   ]
  },
  {
   "cell_type": "markdown",
   "metadata": {},
   "source": [
    "### Now the function to create one row\n",
    "\n",
    "- Inputs: \n",
    "    - how many items each row? (i.e. width)\n",
    "    - now many numbers have been entered so far?\n",
    "- start at the lastNumber that was used\n",
    "- Loop  - how many times? \n",
    "    - add 1 each time - but take modulus base 10 (i.e. 'x % 10'  in python) to make sure that we only get numbers from 0-9\n",
    "    - save the number in the array for the row\n",
    "- Outputs:\n",
    "    - The list of numbers that make up the row\n",
    "    - The last number that was used"
   ]
  },
  {
   "cell_type": "code",
   "execution_count": 14,
   "metadata": {},
   "outputs": [
    {
     "data": {
      "text/plain": [
       "[4, 5, 6, 7, 8, 9, 0, 1, 2, 3, 4, 5, 6, 7, 8]"
      ]
     },
     "execution_count": 14,
     "metadata": {},
     "output_type": "execute_result"
    }
   ],
   "source": [
    "def makeRow(lastNumber, lengthOfRow):\n",
    "    thisRow = [];\n",
    "   \n",
    "    for i in range(0,lengthOfRow):\n",
    "        nextNumber  =( lastNumber + 1) % 10\n",
    "        thisRow.append(nextNumber)\n",
    "        lastNumber = nextNumber\n",
    "    return thisRow, lastNumber\n",
    "\n",
    "\n",
    "makeRow(3, 15)[0]"
   ]
  },
  {
   "cell_type": "markdown",
   "metadata": {},
   "source": [
    "### Now put it all together\n",
    "\n",
    "1) Take the height and make a new list representing each row\n",
    "2) print each row using your printing function"
   ]
  },
  {
   "cell_type": "code",
   "execution_count": null,
   "metadata": {},
   "outputs": [],
   "source": []
  }
 ],
 "metadata": {
  "kernelspec": {
   "display_name": "Python 3",
   "language": "python",
   "name": "python3"
  },
  "language_info": {
   "codemirror_mode": {
    "name": "ipython",
    "version": 3
   },
   "file_extension": ".py",
   "mimetype": "text/x-python",
   "name": "python",
   "nbconvert_exporter": "python",
   "pygments_lexer": "ipython3",
   "version": "3.8.1"
  }
 },
 "nbformat": 4,
 "nbformat_minor": 4
}
